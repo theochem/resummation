{
 "cells": [
  {
   "cell_type": "markdown",
   "id": "2191af55",
   "metadata": {},
   "source": [
    "# Resummation\n",
    "\n",
    "This notes introduces the primary use of Resummation package, which offers various resummation techniques including Pad\\'e, Borel-Pad\\'e, and Meijer-G methods. Example calcuations are given based on the truncated M{\\o}ller-Plesset perturbation series."
   ]
  },
  {
   "cell_type": "code",
   "execution_count": 41,
   "id": "976cea5b",
   "metadata": {},
   "outputs": [],
   "source": [
    "import numpy as np\n",
    "import pandas as pd\n",
    "from resummation import *"
   ]
  },
  {
   "cell_type": "markdown",
   "id": "be7f31c4",
   "metadata": {},
   "source": [
    "## Load the mpn energies from the scan path dataset."
   ]
  },
  {
   "cell_type": "code",
   "execution_count": 42,
   "id": "ebd7bbb8",
   "metadata": {},
   "outputs": [
    {
     "data": {
      "text/plain": [
       "array([-4.51196596e+00, -3.47179943e+00, -2.23685540e-02, -5.82206300e-03,\n",
       "       -1.66436600e-03, -4.99666000e-04, -1.62997000e-04, -6.15790000e-05,\n",
       "       -2.85110000e-05, -1.55590000e-05, -9.24700000e-06, -5.65800000e-06,\n",
       "       -3.48000000e-06, -2.14100000e-06, -1.31500000e-06, -8.07000001e-07,\n",
       "       -4.95000000e-07, -3.04000000e-07, -1.85999999e-07, -1.14000001e-07,\n",
       "       -6.89999986e-08, -4.19999999e-08, -2.60000004e-08, -1.50000012e-08,\n",
       "       -9.99999905e-09, -5.00000041e-09, -3.00000025e-09, -2.00000017e-09,\n",
       "       -2.00000017e-09,  0.00000000e+00, -9.99998306e-10,  0.00000000e+00,\n",
       "        0.00000000e+00,  0.00000000e+00,  0.00000000e+00,  0.00000000e+00,\n",
       "        0.00000000e+00,  0.00000000e+00,  0.00000000e+00,  0.00000000e+00,\n",
       "        0.00000000e+00,  0.00000000e+00,  0.00000000e+00,  0.00000000e+00,\n",
       "        0.00000000e+00,  0.00000000e+00,  0.00000000e+00,  0.00000000e+00,\n",
       "        0.00000000e+00])"
      ]
     },
     "execution_count": 42,
     "metadata": {},
     "output_type": "execute_result"
    }
   ],
   "source": [
    "data = pd.read_csv('./data/mpn/lih_scan.csv')\n",
    "E_mpn = np.array(data[:]['1'])\n",
    "delta_mpn = np.insert(E_mpn[1:] - E_mpn[:-1],0,E_mpn[0])\n",
    "delta_mpn"
   ]
  },
  {
   "cell_type": "markdown",
   "id": "f73c5e70",
   "metadata": {},
   "source": [
    "## Equivalent resummation orders for linear approximation $S_{[L/M]}$ and quadratic approximation $S_{[L/M,N]}$\n",
    "\n",
    "| Order    | N-Coefficients |  Linear | Quadratic |\n",
    "|:----------:|:-------------:|:------:|:------------:|\n",
    "| 2 |  3   | [1,1]   | [1,0,0] |\n",
    "| 3 |  4   | [2,1]   | [1,1,0] |\n",
    "| 4 |  5   | [2,2]   | [1,1,1] |\n",
    "| 5 |  6   | [3,2]   | [2,1,1] |\n",
    "| 6 |  7   | [3,3]   | [2,2,1] |\n",
    "| 16 |  17 | [8,8]   | [5,5,5] |\n",
    "| 46 |  47 | [23,23] | [15,15,15] |"
   ]
  },
  {
   "cell_type": "code",
   "execution_count": 35,
   "id": "e64786e7",
   "metadata": {},
   "outputs": [],
   "source": [
    "order_indices = [2,3,4,5,6,16]\n",
    "\n",
    "linear_indices = [[1,1],\n",
    "    [2,1],\n",
    "    [2,2],\n",
    "    [3,2],\n",
    "    [3,3],\n",
    "    [8,8],\n",
    "    [23,23]]\n",
    "\n",
    "quadratic_indices = [[1,0,0],\n",
    "    [1,1,0],\n",
    "    [1,1,1],\n",
    "    [2,1,1],\n",
    "    [2,2,1],\n",
    "    [5,5,5],\n",
    "    [15,15,15]]"
   ]
  },
  {
   "cell_type": "code",
   "execution_count": 36,
   "id": "4575db06",
   "metadata": {
    "scrolled": true
   },
   "outputs": [
    {
     "name": "stdout",
     "output_type": "stream",
     "text": [
      "-8.006279001553851\n",
      "-8.014004567251352\n",
      "-8.014286828611194\n",
      "-8.014342756619971\n",
      "-8.01439422331053\n",
      "-8.014412616324769\n",
      "-8.01441261099991\n"
     ]
    }
   ],
   "source": [
    "for index in linear_indices:\n",
    "    l_pade = LinearPade.build(delta_mpn, *index)\n",
    "    E = l_pade(1)\n",
    "    print(E)"
   ]
  },
  {
   "cell_type": "code",
   "execution_count": 37,
   "id": "d93e98e3",
   "metadata": {},
   "outputs": [
    {
     "name": "stdout",
     "output_type": "stream",
     "text": [
      "(-8.006352957877715, 2.1784958887689906e-09)\n",
      "(-8.016378506664935, 2.134533673725514e-05)\n",
      "(-8.014565643577116, 2.9981314773053214e-05)\n",
      "(-8.014214260212992, 6.7030852090472495e-09)\n",
      "(-8.014378604470535, 1.253933542017403e-09)\n",
      "(-8.014408855790116, 2.5981692175491844e-07)\n",
      "(-8.014412591696559, 9.257322840246564e-09)\n"
     ]
    },
    {
     "name": "stderr",
     "output_type": "stream",
     "text": [
      "/Users/yilin/Documents/GitHub/resummation/resummation/linear_borel.py:97: IntegrationWarning: The maximum number of subdivisions (50) has been achieved.\n",
      "  If increasing the limit yields no improvement it is advised to analyze \n",
      "  the integrand in order to determine the difficulties.  If the position of a \n",
      "  local difficulty can be determined (singularity, discontinuity) one will \n",
      "  probably gain from splitting up the interval and calling the integrator \n",
      "  on the subranges.  Perhaps a special-purpose integrator should be used.\n",
      "  val = sp.integrate.quad(func, 0, np.inf)\n"
     ]
    }
   ],
   "source": [
    "for index in linear_indices:\n",
    "    l_borel = LinearBorel.build(delta_mpn, *index)\n",
    "    print(l_borel(1))"
   ]
  },
  {
   "cell_type": "code",
   "execution_count": 38,
   "id": "3dd53c8c",
   "metadata": {},
   "outputs": [
    {
     "name": "stdout",
     "output_type": "stream",
     "text": [
      "(-8.006426914118064+0j) (-539.8717964733665+0j)\n",
      "(-8.014095491176139+0j) (-18.07084715322203+0j)\n",
      "(-8.014312316421316+0j) (-17.094829895588074+0j)\n",
      "(-8.01435188386656+0j) (-11.559081934543293+0j)\n",
      "(-8.01436506959441+0j) (-9.602729759231881+0j)\n",
      "(-8.014412598274674+0j) (-8.017130273109109+0j)\n",
      "(-8.014411910475955+0j) (-8.014413831233073+0j)\n"
     ]
    }
   ],
   "source": [
    "for index in quadratic_indices:\n",
    "    q_pade = QuadraticPade.build(delta_mpn, *index)\n",
    "    E_p = q_pade(complex(1),func='plus')\n",
    "    E_m = q_pade(complex(1),func='minus')\n",
    "    print(E_p, E_m)"
   ]
  },
  {
   "cell_type": "code",
   "execution_count": 39,
   "id": "1e8ad7c3",
   "metadata": {},
   "outputs": [
    {
     "name": "stdout",
     "output_type": "stream",
     "text": [
      "(-8.006580900592764+2.0363231957853432e-197j) 2.220355315826392e-09\n",
      "(-1078.7259339563104-2.0363231957853432e-197j) 6.922086699564763e-08\n",
      "(-8.01637580423898+0.0010129557117818436j) 7.83633629592971e-08\n",
      "(-45.904909380904044-0.0010129557117818436j) 5.554379332396198e-07\n",
      "(-8.014977296523625+0.0002757794599825993j) 7.93408821416024e-08\n",
      "(-58.12981881005558-0.0002757794599825993j) 7.595438706870498e-08\n",
      "(-8.014131185067912+0j) 3.68233440160303e-09\n",
      "(6.710071101139746+0j) 1.873198003618005e-09\n",
      "(-8.01346780006241+0j) 1.0622069101073839e-07\n",
      "(-14.302623284420408+0j) 1.4357855488951135e-07\n",
      "(-8.014417396717324+0j) 1.6644263745035914e-07\n",
      "(-20.73599636747386+0j) 0.0001884002470582402\n",
      "(-5.504287969020756-9.328901345273005e-198j) 0.7493377538117179\n",
      "(5.856557514752119+9.328901345273005e-198j) 6.212962405130277e-08\n"
     ]
    },
    {
     "name": "stderr",
     "output_type": "stream",
     "text": [
      "/Users/yilin/anaconda3/lib/python3.11/site-packages/scipy/integrate/_quadpack_py.py:445: IntegrationWarning: The maximum number of subdivisions (50) has been achieved.\n",
      "  If increasing the limit yields no improvement it is advised to analyze \n",
      "  the integrand in order to determine the difficulties.  If the position of a \n",
      "  local difficulty can be determined (singularity, discontinuity) one will \n",
      "  probably gain from splitting up the interval and calling the integrator \n",
      "  on the subranges.  Perhaps a special-purpose integrator should be used.\n",
      "  re_retval = quad(refunc, a, b, args, full_output, epsabs,\n",
      "/Users/yilin/anaconda3/lib/python3.11/site-packages/scipy/integrate/_quadpack_py.py:445: IntegrationWarning: The algorithm does not converge.  Roundoff error is detected\n",
      "  in the extrapolation table.  It is assumed that the requested tolerance\n",
      "  cannot be achieved, and that the returned result (if full_output = 1) is \n",
      "  the best which can be obtained.\n",
      "  re_retval = quad(refunc, a, b, args, full_output, epsabs,\n"
     ]
    }
   ],
   "source": [
    "for index in quadratic_indices:\n",
    "    q_borel = QuadraticBorel.build(delta_mpn, *index)\n",
    "    E_p, error_p = q_borel(complex(1),func='plus')\n",
    "    E_m, error_m = q_borel(complex(1),func='minus')\n",
    "    print(E_p, error_p)\n",
    "    print(E_m, error_m)"
   ]
  },
  {
   "cell_type": "code",
   "execution_count": 40,
   "id": "4f4d89aa",
   "metadata": {},
   "outputs": [
    {
     "name": "stdout",
     "output_type": "stream",
     "text": [
      "2 -8.00642790565238 0.0\n",
      "3 -8.01742069946718 -0.00358653188871829\n",
      "4 -8.01477352549128 -9.49297688869485e-5\n",
      "5 -8.01435339416245 -1.1468565297738e-14\n",
      "6 -8.01438444067064 -4.21237176876216e-7\n",
      "16 -8.01441252880786 -1.2068932422974e-8\n"
     ]
    }
   ],
   "source": [
    "for index in order_indices:\n",
    "    meijer = MeijerG.build(delta_mpn,index)\n",
    "    a = meijer(1.0)\n",
    "    print(index, a.real,a.imag)"
   ]
  }
 ],
 "metadata": {
  "kernelspec": {
   "display_name": "Python 3 (ipykernel)",
   "language": "python",
   "name": "python3"
  },
  "language_info": {
   "codemirror_mode": {
    "name": "ipython",
    "version": 3
   },
   "file_extension": ".py",
   "mimetype": "text/x-python",
   "name": "python",
   "nbconvert_exporter": "python",
   "pygments_lexer": "ipython3",
   "version": "3.11.4"
  }
 },
 "nbformat": 4,
 "nbformat_minor": 5
}
